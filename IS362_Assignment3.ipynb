{
 "cells": [
  {
   "cell_type": "markdown",
   "metadata": {},
   "source": [
    "<div align=\"center\"> <h1> A BICYCLE'S ODOMETER </h1></div>"
   ]
  },
  {
   "cell_type": "markdown",
   "metadata": {},
   "source": [
    "Suppose you have ridden a bicycle from New York City to Key West, Florida. Your bicycle odometer shows the total miles, which you have dutifully logged at the end of each day with paper and pencil. Your first two entries might be 55 and 120, indicating that you rode your bike 55 miles on day 1 and 65 miles on day 2. \n",
    "\n",
    "Your task is to create a pandas Series object that holds the cumulative miles at the end of each day, then use your Python skills to show the total miles that you rode each day. Consider how you should best present this information in a Jupyter notebook. You should save your Jupyter Notebook to your GitHub repository, and provide a link in your assignment submission."
   ]
  },
  {
   "cell_type": "markdown",
   "metadata": {},
   "source": [
    "<b> STEP 1: </b> BASIC ALGORITHM\n",
    "\n",
    "I used Google to determine the total hours and distance in <i>(miles)</i> between NYC and Key West, Florida. I was able to find out the the distance is <b><u> 128 </u></b> hours or <b><u> 1,537 </u></b> miles. As we already know the biker is riding approximately 65 miles daily; I used the data <i>(1,537 miles)</i> and the info provided <i>(65 miles daily)</i> to determine see how many days it will take to reach Key West. "
   ]
  },
  {
   "cell_type": "code",
   "execution_count": 25,
   "metadata": {},
   "outputs": [
    {
     "name": "stdout",
     "output_type": "stream",
     "text": [
      "23.646153846153847\n"
     ]
    }
   ],
   "source": [
    "days = (1537/65) \n",
    "print (days)\n",
    "\n",
    "#to determine approximately how many days it will take to ride between NYC and Key West, FL. "
   ]
  },
  {
   "cell_type": "markdown",
   "metadata": {},
   "source": [
    "<i> NOTE: </i> We have determined that it will take approximately 24 days to reach Key West, FL. I rounded off to the nearest whole number. "
   ]
  },
  {
   "cell_type": "markdown",
   "metadata": {},
   "source": [
    "<b> STEP 2: </b> IMPORTING PANDAS"
   ]
  },
  {
   "cell_type": "code",
   "execution_count": 3,
   "metadata": {},
   "outputs": [
    {
     "name": "stdout",
     "output_type": "stream",
     "text": [
      "{1: 55,\n",
      " 2: 120,\n",
      " 3: 185,\n",
      " 4: 250,\n",
      " 5: 315,\n",
      " 6: 380,\n",
      " 7: 445,\n",
      " 8: 510,\n",
      " 9: 575,\n",
      " 10: 640,\n",
      " 11: 705,\n",
      " 12: 770,\n",
      " 13: 835,\n",
      " 14: 900,\n",
      " 15: 965,\n",
      " 16: 1030,\n",
      " 17: 1095,\n",
      " 18: 1160,\n",
      " 19: 1225,\n",
      " 20: 1290,\n",
      " 21: 1355,\n",
      " 22: 1420,\n",
      " 23: 1485,\n",
      " 24: 1537}\n"
     ]
    }
   ],
   "source": [
   	"\n",
   	"\n",
   	"\n",
   	"# Author: Rickardo Henry\n",
   	"#  IS362_Assignment3\n",
   	"\n",
   	"\n",
   	"\n",
    "import pandas as pd\n",
    "#import numpy as np\n",
    "from pprint import pprint # Used 'pprint' module for making restults and output more readable.\n",
    "\n",
    "odometer = {}\n",
    "odometer[1] = 55\n",
    "odometer[2] = 120\n",
    "odometer[3] = 185\n",
    "odometer[4] = 250\n",
    "odometer[5] = 315\n",
    "odometer[6] = 380\n",
    "odometer[7] = 445\n",
    "odometer[8] = 510\n",
    "odometer[9] = 575\n",
    "odometer[10] = 640\n",
    "odometer[11] = 705\n",
    "odometer[12] = 770\n",
    "odometer[13] = 835\n",
    "odometer[14] = 900\n",
    "odometer[15] = 965\n",
    "odometer[16] = 1030\n",
    "odometer[17] = 1095\n",
    "odometer[18] = 1160\n",
    "odometer[19] = 1225\n",
    "odometer[20] = 1290\n",
    "odometer[21] = 1355\n",
    "odometer[22] = 1420\n",
    "odometer[23] = 1485\n",
    "odometer[24] = 1537\n",
    "\n",
    "pprint (odometer)"
   ]
  },
  {
   "cell_type": "markdown",
   "metadata": {},
   "source": [
    "<b> STEP 3: </b> OBJECT CREATION\n",
    "\n",
    "Creating a Series by passing a list of values, letting pandas define the data type. I created a series from the <i>Odometer Dictionary</i> and defined the data type.   "
   ]
  },
  {
   "cell_type": "code",
   "execution_count": 4,
   "metadata": {},
   "outputs": [
    {
     "name": "stdout",
     "output_type": "stream",
     "text": [
      "<class 'pandas.core.series.Series'>\n"
     ]
    },
    {
     "data": {
      "text/plain": [
       "1       55\n",
       "2      120\n",
       "3      185\n",
       "4      250\n",
       "5      315\n",
       "6      380\n",
       "7      445\n",
       "8      510\n",
       "9      575\n",
       "10     640\n",
       "11     705\n",
       "12     770\n",
       "13     835\n",
       "14     900\n",
       "15     965\n",
       "16    1030\n",
       "17    1095\n",
       "18    1160\n",
       "19    1225\n",
       "20    1290\n",
       "21    1355\n",
       "22    1420\n",
       "23    1485\n",
       "24    1537\n",
       "dtype: int64"
      ]
     },
     "execution_count": 4,
     "metadata": {},
     "output_type": "execute_result"
    }
   ],
   "source": [
    "odometer = pd.Series(odometer)\n",
    "print (type(odometer))\n",
    "odometer"
   ]
  },
  {
   "cell_type": "markdown",
   "metadata": {},
   "source": [
    "<b> STEP 4: </b> FINDING THE DAILY MILES TRAVELED  \n",
    "\n",
    "Subtracting the miles from the next day to the prior day to determine how many miles were travelled daily. <i>(ex: Day 2 - Day 1). </i> The <i> for loop </i> function helps iterate over an item of a sequence. It is often used when you want to repeat a code  <i>\"n\"</i> a number of times. <i> (http://www.pythonforbeginners.com/loops/for-while-and-nested-loops-in-python) </i>"
   ]
  },
  {
   "cell_type": "code",
   "execution_count": 5,
   "metadata": {},
   "outputs": [
    {
     "name": "stdout",
     "output_type": "stream",
     "text": [
      "Day 1: 55 miles\n",
      "Day 2: 65 miles\n",
      "Day 3: 65 miles\n",
      "Day 4: 65 miles\n",
      "Day 5: 65 miles\n",
      "Day 6: 65 miles\n",
      "Day 7: 65 miles\n",
      "Day 8: 65 miles\n",
      "Day 9: 65 miles\n",
      "Day 10: 65 miles\n",
      "Day 11: 65 miles\n",
      "Day 12: 65 miles\n",
      "Day 13: 65 miles\n",
      "Day 14: 65 miles\n",
      "Day 15: 65 miles\n",
      "Day 16: 65 miles\n",
      "Day 17: 65 miles\n",
      "Day 18: 65 miles\n",
      "Day 19: 65 miles\n",
      "Day 20: 65 miles\n",
      "Day 21: 65 miles\n",
      "Day 22: 65 miles\n",
      "Day 23: 65 miles\n",
      "Day 24: 52 miles\n"
     ]
    }
   ],
   "source": [
    "daily_miles = {}\n",
    "prior_day = 0\n",
    "\n",
    "for day, odo_miles in odometer.items():\n",
    "    present_miles = odo_miles - prior_day\n",
    "    daily_miles[day] = present_miles\n",
    "    print('Day ' + str(day) + ': ' + str(present_miles) + ' miles')\n",
    "    prior_day = odo_miles"
   ]
  },
  {
   "cell_type": "markdown",
   "metadata": {},
   "source": [
    "<b> STEP 3: </b> A PLOT GRAPH\n",
    "\n",
    "<i> Graph fucntion taken used from Stackoverflow (https://stackoverflow.com/questions/29498652/plot-bar-graph-from-pandas-dataframe) and forked from Github (http://www.github.com) </i>"
   ]
  },
  {
   "cell_type": "code",
   "execution_count": 6,
   "metadata": {},
   "outputs": [
    {
     "data": {
      "image/png": "[encoded data removed]",
      "text/plain": [
       "<matplotlib.figure.Figure at 0x40c5c90>"
      ]
     },
     "metadata": {},
     "output_type": "display_data"
    }
   ],
   "source": [
    "import numpy as np\n",
    "from matplotlib import pyplot\n",
    "\n",
    "current = pd.Series(odometer.iloc[0])\n",
    "current.index += 1\n",
    "\n",
    "next_day = pd.Series(np.diff(odometer))\n",
    "next_day.index += 2\n",
    "\n",
    "new = [current, next_day]\n",
    "daily_record = pd.concat(new)\n",
    "\n",
    "pyplot.plot(daily_record, ls=':', marker='^')\n",
    "pyplot.suptitle('A BICYCLE''s'' ODOMETER - A TRIP FROM NY to KEY WEST, FL')\n",
    "pyplot.xlabel('Days')\n",
    "pyplot.ylabel('Miles')\n",
    "pyplot.grid()\n",
    "pyplot.show()"
   ]
  },
  {
   "cell_type": "markdown",
   "metadata": {},
   "source": [
    "<div align=\"center\"> <h1> THANK YOU </h1></div>"
   ]
  }
 ],
 "metadata": {
  "kernelspec": {
   "display_name": "Python 3",
   "language": "python",
   "name": "python3"
  },
  "language_info": {
   "codemirror_mode": {
    "name": "ipython",
    "version": 3
   },
   "file_extension": ".py",
   "mimetype": "text/x-python",
   "name": "python",
   "nbconvert_exporter": "python",
   "pygments_lexer": "ipython3",
   "version": "3.5.4"
  }
 },
 "nbformat": 4,
 "nbformat_minor": 2
}
